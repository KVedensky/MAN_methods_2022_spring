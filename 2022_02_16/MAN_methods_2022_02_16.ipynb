{
 "cells": [
  {
   "cell_type": "code",
   "execution_count": null,
   "metadata": {},
   "outputs": [],
   "source": []
  },
  {
   "cell_type": "code",
   "execution_count": 43,
   "metadata": {},
   "outputs": [],
   "source": [
    "# Generates elevator calls for people from a single flat\n",
    "# TODO(vedensky): add types of flats\n",
    "# TODO(vedensky): one person per flat works 09 - 18\n",
    "def GenerateCallsForFlat(numPeople, floor):\n",
    "    result = []\n",
    "    for i in range(numPeople):\n",
    "        time1 = random.randint(0, 22*60*60)\n",
    "        result.append((time1, floor, 1))\n",
    "        time2 = random.randint(time1 + 60*60, 24*60*60)\n",
    "        result.append((time2, 1, floor))\n",
    "    return result"
   ]
  },
  {
   "cell_type": "code",
   "execution_count": 44,
   "metadata": {},
   "outputs": [],
   "source": [
    "# TODO(vedensky): make the number of people random\n",
    "def GetPeopleArrivingAtFloors(numFloors, numFlatsPerFloor, avgPeoplePerFlat):\n",
    "    result = []\n",
    "    for floor in range(2, numFloors+1):\n",
    "        for flat in range(numFlatsPerFloor):\n",
    "            result.extend(GenerateCallsForFlat(avgPeoplePerFlat, floor))\n",
    "    return result"
   ]
  },
  {
   "cell_type": "code",
   "execution_count": 45,
   "metadata": {},
   "outputs": [
    {
     "name": "stdout",
     "output_type": "stream",
     "text": [
      "361\n"
     ]
    }
   ],
   "source": [
    "import random\n",
    "random.seed(4)\n",
    "\n",
    "# Number of floors, including the ground floor\n",
    "# Ground floor is 1, top floor is NumFloors\n",
    "NumFloors = 10\n",
    "# Exactly the same on each floor\n",
    "NumFlatsPerFloor = 10\n",
    "# Average number of people per flat - should be random\n",
    "AvgPeoplePerFlat = 2\n",
    "\n",
    "ElevatorCalls = sorted(GetPeopleArrivingAtFloors(NumFloors, NumFlatsPerFloor, AvgPeoplePerFlat))\n",
    "#[(1235, 1, 3), (17983, 2, 1)]\n",
    "\n",
    "ElevatorCalls.append((60*60*60, -1, -1))\n",
    "\n",
    "print(len(ElevatorCalls))"
   ]
  },
  {
   "cell_type": "code",
   "execution_count": 46,
   "metadata": {},
   "outputs": [],
   "source": [
    "#ElevatorCalls"
   ]
  },
  {
   "cell_type": "code",
   "execution_count": 47,
   "metadata": {},
   "outputs": [
    {
     "name": "stdout",
     "output_type": "stream",
     "text": [
      "Average wait time:  35.541666666666664\n",
      "Max wait time:  121\n"
     ]
    }
   ],
   "source": [
    "#NumElevators = 1\n",
    "SecondsBetweenFloors = 5\n",
    "SecondsOnFloor = 10\n",
    "MaxCapacity = 5\n",
    "\n",
    "CurrentSecond = 0\n",
    "CurrentCalls = []\n",
    "ElevatorPosition = 1\n",
    "\n",
    "ElevatorCallsIdx = 0\n",
    "\n",
    "DebugLevel = 0\n",
    "\n",
    "def GetCallsUpToCurrentSecond():\n",
    "    global ElevatorCallsIdx\n",
    "    result = []\n",
    "    while (ElevatorCalls[ElevatorCallsIdx][0] <= CurrentSecond):\n",
    "        result.append(ElevatorCalls[ElevatorCallsIdx])\n",
    "        ElevatorCallsIdx += 1\n",
    "    return result\n",
    "\n",
    "def MoveElevatorToFloor(targetFloor):\n",
    "    global CurrentSecond\n",
    "    global ElevatorPosition\n",
    "    if DebugLevel >= 1:\n",
    "        print(\"Second: \", CurrentSecond, \" - Elevator moved from floor \", ElevatorPosition, \" to floor \", targetFloor)\n",
    "    CurrentSecond += SecondsBetweenFloors*abs(targetFloor - ElevatorPosition)\n",
    "    ElevatorPosition = targetFloor\n",
    "    \n",
    "def IsCalledFromCurrentFloor():\n",
    "    for call in CurrentCalls:\n",
    "        if call[1] == ElevatorPosition:\n",
    "            return True\n",
    "    return False\n",
    "\n",
    "if DebugLevel >= 1:\n",
    "    print(ElevatorCalls)\n",
    "    print(\"Start: second 0, elevator is at the floor 1, empty.\")\n",
    "    \n",
    "WaitTimes = []\n",
    "\n",
    "while (ElevatorCallsIdx != len(ElevatorCalls) - 1) or (len(CurrentCalls) != 0):\n",
    "    if len(CurrentCalls) == 0:\n",
    "        CurrentSecond = ElevatorCalls[ElevatorCallsIdx][0]\n",
    "    CurrentCalls.extend(GetCallsUpToCurrentSecond())\n",
    "    if IsCalledFromCurrentFloor():\n",
    "        CurrentSecond += SecondsOnFloor\n",
    "        CurrentCalls.extend(GetCallsUpToCurrentSecond())\n",
    "        MomentCalls = []\n",
    "        for call in CurrentCalls:\n",
    "            if call[1] == ElevatorPosition:\n",
    "                MomentCalls.append(call)\n",
    "                if len(MomentCalls) == MaxCapacity:\n",
    "                    break\n",
    "        if DebugLevel >= 1:\n",
    "            print(\"Second: \", CurrentSecond, \" - Elevator picked up: \", MomentCalls)\n",
    "        maxFloor = 1\n",
    "        setFloors = set()\n",
    "        for call in MomentCalls:\n",
    "            WaitTimes.append(CurrentSecond - call[0])\n",
    "            setFloors.add(call[2])\n",
    "            maxFloor = max(maxFloor, call[2])\n",
    "            CurrentCalls.remove(call)\n",
    "        if DebugLevel >= 1:\n",
    "            if len(setFloors)-1 > 0:\n",
    "                print(\"Second: \", CurrentSecond, \" - Elevator unloads at \", len(setFloors)-1, \" mid floors\")\n",
    "        MoveElevatorToFloor(maxFloor)\n",
    "        CurrentSecond += (len(setFloors)-1)*SecondsOnFloor\n",
    "        if DebugLevel >= 1:\n",
    "            print(\"Second: \", CurrentSecond, \" - Elevator unloads at floor \", ElevatorPosition)\n",
    "        CurrentSecond += SecondsOnFloor\n",
    "        CurrentCalls.extend(GetCallsUpToCurrentSecond())\n",
    "        if (IsCalledFromCurrentFloor()):\n",
    "            CurrentSecond -= SecondsOnFloor\n",
    "        continue\n",
    "    else:\n",
    "        MoveElevatorToFloor(CurrentCalls[0][1])\n",
    "        continue\n",
    "\n",
    "avgWaitTime = 0\n",
    "maxWaitTime = 0\n",
    "for t in WaitTimes:\n",
    "    avgWaitTime += t\n",
    "    maxWaitTime = max(maxWaitTime, t)\n",
    "print(\"Average wait time: \", avgWaitTime / len(WaitTimes))\n",
    "print(\"Max wait time: \", maxWaitTime)"
   ]
  },
  {
   "cell_type": "code",
   "execution_count": null,
   "metadata": {},
   "outputs": [],
   "source": []
  }
 ],
 "metadata": {
  "kernelspec": {
   "display_name": "PyPy3",
   "language": "python",
   "name": "pypy3"
  },
  "language_info": {
   "codemirror_mode": {
    "name": "ipython",
    "version": 3
   },
   "file_extension": ".py",
   "mimetype": "text/x-python",
   "name": "python",
   "nbconvert_exporter": "python",
   "pygments_lexer": "ipython3",
   "version": "3.7.10"
  }
 },
 "nbformat": 4,
 "nbformat_minor": 4
}
